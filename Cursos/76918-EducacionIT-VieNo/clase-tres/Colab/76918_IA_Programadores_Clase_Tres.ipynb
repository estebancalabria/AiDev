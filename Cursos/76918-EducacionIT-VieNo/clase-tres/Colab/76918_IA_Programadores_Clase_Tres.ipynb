{
  "nbformat": 4,
  "nbformat_minor": 0,
  "metadata": {
    "colab": {
      "provenance": []
    },
    "kernelspec": {
      "name": "python3",
      "display_name": "Python 3"
    },
    "language_info": {
      "name": "python"
    }
  },
  "cells": [
    {
      "cell_type": "markdown",
      "source": [
        "# Descomprimo el archivo proyecto.zip"
      ],
      "metadata": {
        "id": "ztzvBTZLMxYs"
      }
    },
    {
      "cell_type": "code",
      "execution_count": null,
      "metadata": {
        "id": "COgpCGeBLD_2"
      },
      "outputs": [],
      "source": [
        "import zipfile\n",
        "\n",
        "def descomprimir_zip(archivo_zip, carpeta_destino):\n",
        "    with zipfile.ZipFile(archivo_zip, 'r') as zip_ref:\n",
        "        zip_ref.extractall(carpeta_destino)\n",
        "\n",
        "# Llamada a la función\n",
        "descomprimir_zip('proyecto.zip', './proyecto')\n"
      ]
    },
    {
      "cell_type": "markdown",
      "source": [
        "# Listamos el contenido de los archivos js que etan en la carpeta ./proyecto"
      ],
      "metadata": {
        "id": "f_xEuVFjPQDy"
      }
    },
    {
      "cell_type": "code",
      "source": [
        "import os\n",
        "\n",
        "def mostrar_archivos_js(ruta):\n",
        "    for raiz, dirs, archivos in os.walk(ruta):\n",
        "        for archivo in archivos:\n",
        "            if archivo.endswith('.js'):\n",
        "                ruta_completa = os.path.join(raiz, archivo)\n",
        "                try:\n",
        "                    with open(ruta_completa, 'r', encoding='utf-8') as f:\n",
        "                        contenido = f.read()\n",
        "                        print(f\"\\nArchivo: {ruta_completa}\")\n",
        "                        print(f\"Contenido:\\n{contenido}\")\n",
        "                        print(\"-\" * 50)\n",
        "                except Exception as e:\n",
        "                    print(f\"Error al leer {ruta_completa}: {str(e)}\")\n",
        "\n",
        "# Llamar a la función con la ruta de tu proyecto\n",
        "mostrar_archivos_js('./proyecto')\n"
      ],
      "metadata": {
        "colab": {
          "base_uri": "https://localhost:8080/"
        },
        "id": "9Ldhx5oVPX-W",
        "outputId": "45a9c761-828c-42ce-c285-5137eb025dab"
      },
      "execution_count": null,
      "outputs": [
        {
          "output_type": "stream",
          "name": "stdout",
          "text": [
            "\n",
            "Archivo: ./proyecto/src/app.js\n",
            "Contenido:\n",
            "const express = require('express');\n",
            "const productRoutes = require('./routes/productRoutes');\n",
            "require('dotenv').config();\n",
            "\n",
            "const app = express();\n",
            "\n",
            "// Middleware para parsear JSON\n",
            "app.use(express.json());\n",
            "\n",
            "// Rutas\n",
            "app.use('/api/products', productRoutes);\n",
            "\n",
            "const PORT = process.env.PORT || 3000;\n",
            "\n",
            "app.listen(PORT, () => {\n",
            "    console.log(`Servidor corriendo en el puerto ${PORT}`);\n",
            "}); \n",
            "--------------------------------------------------\n",
            "\n",
            "Archivo: ./proyecto/src/models/Product.js\n",
            "Contenido:\n",
            "const mongoose = require('mongoose');\n",
            "\n",
            "const productSchema = new mongoose.Schema({\n",
            "    name: {\n",
            "        type: String,\n",
            "        required: [true, 'El nombre del producto es obligatorio'],\n",
            "        trim: true\n",
            "    },\n",
            "    description: {\n",
            "        type: String,\n",
            "        required: [true, 'La descripción es obligatoria']\n",
            "    },\n",
            "    price: {\n",
            "        type: Number,\n",
            "        required: [true, 'El precio es obligatorio']\n",
            "    },\n",
            "    stock: {\n",
            "        type: Number,\n",
            "        default: 0\n",
            "    },\n",
            "    createdAt: {\n",
            "        type: Date,\n",
            "        default: Date.now\n",
            "    }\n",
            "});\n",
            "\n",
            "module.exports = mongoose.model('Product', productSchema); \n",
            "--------------------------------------------------\n",
            "\n",
            "Archivo: ./proyecto/src/controllers/productController.js\n",
            "Contenido:\n",
            "const { readDB, writeDB } = require('../config/database');\n",
            "\n",
            "// Obtener todos los productos\n",
            "exports.getProducts = async (req, res) => {\n",
            "    try {\n",
            "        const data = await readDB();\n",
            "        res.status(200).json({\n",
            "            success: true,\n",
            "            data: data.products\n",
            "        });\n",
            "    } catch (error) {\n",
            "        res.status(500).json({\n",
            "            success: false,\n",
            "            error: 'Error del servidor'\n",
            "        });\n",
            "    }\n",
            "};\n",
            "\n",
            "// Crear un nuevo producto\n",
            "exports.createProduct = async (req, res) => {\n",
            "    try {\n",
            "        const data = await readDB();\n",
            "        const newProduct = {\n",
            "            id: Date.now().toString(),\n",
            "            ...req.body,\n",
            "            createdAt: new Date().toISOString()\n",
            "        };\n",
            "        \n",
            "        data.products.push(newProduct);\n",
            "        await writeDB(data);\n",
            "\n",
            "        res.status(201).json({\n",
            "            success: true,\n",
            "            data: newProduct\n",
            "        });\n",
            "    } catch (error) {\n",
            "        res.status(400).json({\n",
            "            success: false,\n",
            "            error: error.message\n",
            "        });\n",
            "    }\n",
            "}; \n",
            "--------------------------------------------------\n",
            "\n",
            "Archivo: ./proyecto/src/config/database.js\n",
            "Contenido:\n",
            "const fs = require('fs').promises;\n",
            "const path = require('path');\n",
            "\n",
            "const dbPath = path.join(__dirname, '../data/products.json');\n",
            "\n",
            "const readDB = async () => {\n",
            "    try {\n",
            "        const data = await fs.readFile(dbPath, 'utf8');\n",
            "        return JSON.parse(data);\n",
            "    } catch (error) {\n",
            "        if (error.code === 'ENOENT') {\n",
            "            // Si el archivo no existe, créalo con un array vacío\n",
            "            await fs.writeFile(dbPath, JSON.stringify({ products: [] }));\n",
            "            return { products: [] };\n",
            "        }\n",
            "        throw error;\n",
            "    }\n",
            "};\n",
            "\n",
            "const writeDB = async (data) => {\n",
            "    await fs.writeFile(dbPath, JSON.stringify(data, null, 2));\n",
            "};\n",
            "\n",
            "module.exports = { readDB, writeDB }; \n",
            "--------------------------------------------------\n",
            "\n",
            "Archivo: ./proyecto/src/routes/productRoutes.js\n",
            "Contenido:\n",
            "const express = require('express');\n",
            "const router = express.Router();\n",
            "const { getProducts, createProduct } = require('../controllers/productController');\n",
            "\n",
            "router.route('/')\n",
            "    .get(getProducts)\n",
            "    .post(createProduct);\n",
            "\n",
            "module.exports = router; \n",
            "--------------------------------------------------\n"
          ]
        }
      ]
    },
    {
      "cell_type": "markdown",
      "source": [
        "# Traducimos un archivo para probar de requiere a import"
      ],
      "metadata": {
        "id": "jfnFte1QQz99"
      }
    },
    {
      "cell_type": "code",
      "source": [
        "!pip install groq"
      ],
      "metadata": {
        "colab": {
          "base_uri": "https://localhost:8080/"
        },
        "id": "NvCwsYPiVd9_",
        "outputId": "436ab1de-ebfd-4a26-b532-a02a317ec6b7"
      },
      "execution_count": null,
      "outputs": [
        {
          "output_type": "stream",
          "name": "stdout",
          "text": [
            "Collecting groq\n",
            "  Downloading groq-0.13.0-py3-none-any.whl.metadata (13 kB)\n",
            "Requirement already satisfied: anyio<5,>=3.5.0 in /usr/local/lib/python3.10/dist-packages (from groq) (3.7.1)\n",
            "Requirement already satisfied: distro<2,>=1.7.0 in /usr/local/lib/python3.10/dist-packages (from groq) (1.9.0)\n",
            "Requirement already satisfied: httpx<1,>=0.23.0 in /usr/local/lib/python3.10/dist-packages (from groq) (0.28.1)\n",
            "Requirement already satisfied: pydantic<3,>=1.9.0 in /usr/local/lib/python3.10/dist-packages (from groq) (2.10.3)\n",
            "Requirement already satisfied: sniffio in /usr/local/lib/python3.10/dist-packages (from groq) (1.3.1)\n",
            "Requirement already satisfied: typing-extensions<5,>=4.7 in /usr/local/lib/python3.10/dist-packages (from groq) (4.12.2)\n",
            "Requirement already satisfied: idna>=2.8 in /usr/local/lib/python3.10/dist-packages (from anyio<5,>=3.5.0->groq) (3.10)\n",
            "Requirement already satisfied: exceptiongroup in /usr/local/lib/python3.10/dist-packages (from anyio<5,>=3.5.0->groq) (1.2.2)\n",
            "Requirement already satisfied: certifi in /usr/local/lib/python3.10/dist-packages (from httpx<1,>=0.23.0->groq) (2024.8.30)\n",
            "Requirement already satisfied: httpcore==1.* in /usr/local/lib/python3.10/dist-packages (from httpx<1,>=0.23.0->groq) (1.0.7)\n",
            "Requirement already satisfied: h11<0.15,>=0.13 in /usr/local/lib/python3.10/dist-packages (from httpcore==1.*->httpx<1,>=0.23.0->groq) (0.14.0)\n",
            "Requirement already satisfied: annotated-types>=0.6.0 in /usr/local/lib/python3.10/dist-packages (from pydantic<3,>=1.9.0->groq) (0.7.0)\n",
            "Requirement already satisfied: pydantic-core==2.27.1 in /usr/local/lib/python3.10/dist-packages (from pydantic<3,>=1.9.0->groq) (2.27.1)\n",
            "Downloading groq-0.13.0-py3-none-any.whl (108 kB)\n",
            "\u001b[?25l   \u001b[90m━━━━━━━━━━━━━━━━━━━━━━━━━━━━━━━━━━━━━━━━\u001b[0m \u001b[32m0.0/108.8 kB\u001b[0m \u001b[31m?\u001b[0m eta \u001b[36m-:--:--\u001b[0m\r\u001b[2K   \u001b[90m━━━━━━━━━━━━━━━━━━━━━━━━━━━━━━━━━━━━━━━━\u001b[0m \u001b[32m108.8/108.8 kB\u001b[0m \u001b[31m4.8 MB/s\u001b[0m eta \u001b[36m0:00:00\u001b[0m\n",
            "\u001b[?25hInstalling collected packages: groq\n",
            "Successfully installed groq-0.13.0\n"
          ]
        }
      ]
    },
    {
      "cell_type": "code",
      "source": [
        "import groq\n",
        "\n",
        "api_key = input(\"Ingrese su API key de Groq: \")\n",
        "\n",
        "client = groq.Client(api_key=api_key)\n",
        "\n",
        "codigo = \"\"\"\n",
        "const express = require('express');\n",
        "const router = express.Router();\n",
        "const { getProducts, createProduct } = require('../controllers/productController');\n",
        "\n",
        "router.route('/')\n",
        "    .get(getProducts)\n",
        "    .post(createProduct);\n",
        "\n",
        "module.exports = router;\n",
        "\"\"\"\n",
        "\n",
        "response = client.chat.completions.create(\n",
        "    model=\"llama-3.3-70b-versatile\",\n",
        "    messages=[\n",
        "        {\n",
        "            \"role\": \"system\",\n",
        "            \"content\": \"Eres un traductor especializado en convertir código JavaScript que utiliza require a la sintaxis moderna de import. Tu tarea es recibir un fragmento de código fuente en JavaScript que usa require y devolver el mismo código modificado para que use la sintaxis import .. from .... Responde únicamente con el código convertido, sin agregar explicaciones ni comentarios adicionales y no utilizar markdown.\"\n",
        "        },\n",
        "        {\n",
        "            \"role\": \"user\",\n",
        "            \"content\": codigo\n",
        "        }\n",
        "    ],\n",
        "    temperature=0\n",
        ")\n",
        "\n",
        "print(response.choices[0].message.content)\n"
      ],
      "metadata": {
        "colab": {
          "base_uri": "https://localhost:8080/"
        },
        "id": "KIZZ37GCQ5kK",
        "outputId": "7b0127c5-e3d9-4e88-ee57-e2ef698df67e"
      },
      "execution_count": null,
      "outputs": [
        {
          "output_type": "stream",
          "name": "stdout",
          "text": [
            "Ingrese su API key de Groq: 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\n",
            "import express from 'express';\n",
            "const router = express.Router();\n",
            "import { getProducts, createProduct } from '../controllers/productController';\n",
            "\n",
            "router.route('/')\n",
            "    .get(getProducts)\n",
            "    .post(createProduct);\n",
            "\n",
            "export default router;\n"
          ]
        }
      ]
    },
    {
      "cell_type": "markdown",
      "source": [
        "# Genero Proyecto de Salida"
      ],
      "metadata": {
        "id": "LPwk7qVgYG5C"
      }
    },
    {
      "cell_type": "code",
      "source": [
        "import os\n",
        "import groq\n",
        "\n",
        "def procesar_archivos_js(ruta_entrada, ruta_salida):\n",
        "    # Obtener API key\n",
        "    api_key = input(\"Ingrese su API key de Groq: \")\n",
        "    client = groq.Client(api_key=api_key)\n",
        "\n",
        "    # Crear directorio de salida si no existe\n",
        "    os.makedirs(ruta_salida, exist_ok=True)\n",
        "\n",
        "    # Recorrer archivos JS\n",
        "    for raiz, dirs, archivos in os.walk(ruta_entrada):\n",
        "        for archivo in archivos:\n",
        "            if archivo.endswith('.js'):\n",
        "                ruta_completa = os.path.join(raiz, archivo)\n",
        "                try:\n",
        "                    # Leer archivo JS\n",
        "                    with open(ruta_completa, 'r', encoding='utf-8') as f:\n",
        "                        codigo_js = f.read()\n",
        "\n",
        "                    # Procesar con Groq\n",
        "                    response = client.chat.completions.create(\n",
        "                        model=\"llama-3.3-70b-versatile\",\n",
        "                        messages=[\n",
        "                            {\n",
        "                                \"role\": \"system\",\n",
        "                                \"content\": \"Eres un traductor especializado en convertir código JavaScript que utiliza require a la sintaxis moderna de import. Tu tarea es recibir un fragmento de código fuente en JavaScript que usa require y devolver el mismo código modificado para que use la sintaxis import .. from .... Responde únicamente con el código convertido, sin agregar explicaciones ni comentarios adicionales y no utilizar markdown.\"\n",
        "                            },\n",
        "                            {\n",
        "                                \"role\": \"user\",\n",
        "                                \"content\": codigo_js\n",
        "                            }\n",
        "                        ],\n",
        "                        temperature=0\n",
        "                    )\n",
        "\n",
        "                    # Guardar resultado\n",
        "                    nombre_salida = os.path.join(ruta_salida, f\"{os.path.splitext(archivo)[0]}_convertido.js\")\n",
        "                    with open(nombre_salida, 'w', encoding='utf-8') as f:\n",
        "                        f.write(response.choices[0].message.content)\n",
        "\n",
        "                    print(f\"Procesado: {ruta_completa} -> {nombre_salida}\")\n",
        "\n",
        "                except Exception as e:\n",
        "                    print(f\"Error procesando {ruta_completa}: {str(e)}\")\n",
        "\n",
        "# Ejecutar el proceso\n",
        "procesar_archivos_js('./proyecto', './proyecto-salida')"
      ],
      "metadata": {
        "colab": {
          "base_uri": "https://localhost:8080/"
        },
        "id": "jLOSNHwaYI1H",
        "outputId": "2b89ef26-53f7-46ee-ae9d-e3c28f05f5fa"
      },
      "execution_count": null,
      "outputs": [
        {
          "output_type": "stream",
          "name": "stdout",
          "text": [
            "Ingrese su API key de Groq: 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\n",
            "Procesado: ./proyecto/src/app.js -> ./proyecto-salida/app_convertido.js\n",
            "Procesado: ./proyecto/src/models/Product.js -> ./proyecto-salida/Product_convertido.js\n",
            "Procesado: ./proyecto/src/controllers/productController.js -> ./proyecto-salida/productController_convertido.js\n",
            "Procesado: ./proyecto/src/config/database.js -> ./proyecto-salida/database_convertido.js\n",
            "Procesado: ./proyecto/src/routes/productRoutes.js -> ./proyecto-salida/productRoutes_convertido.js\n"
          ]
        }
      ]
    },
    {
      "cell_type": "markdown",
      "source": [
        "# Version Mejorada"
      ],
      "metadata": {
        "id": "aLrYJ1NnZue_"
      }
    },
    {
      "cell_type": "code",
      "source": [
        "import os\n",
        "import groq\n",
        "\n",
        "def procesar_archivos_js(ruta_entrada, ruta_salida):\n",
        "    # Obtener API key\n",
        "    api_key = input(\"Ingrese su API key de Groq: \")\n",
        "    client = groq.Client(api_key=api_key)\n",
        "\n",
        "    # Crear directorio de salida si no existe\n",
        "    os.makedirs(ruta_salida, exist_ok=True)\n",
        "\n",
        "    # Recorrer archivos JS\n",
        "    for raiz, dirs, archivos in os.walk(ruta_entrada):\n",
        "        for archivo in archivos:\n",
        "            if archivo.endswith('.js'):\n",
        "                ruta_completa = os.path.join(raiz, archivo)\n",
        "\n",
        "                # Calcular ruta relativa y crear estructura en destino\n",
        "                ruta_relativa = os.path.relpath(raiz, ruta_entrada)\n",
        "                ruta_destino = os.path.join(ruta_salida, ruta_relativa)\n",
        "                os.makedirs(ruta_destino, exist_ok=True)\n",
        "\n",
        "                try:\n",
        "                    # Leer archivo JS\n",
        "                    with open(ruta_completa, 'r', encoding='utf-8') as f:\n",
        "                        codigo_js = f.read()\n",
        "\n",
        "                    # Procesar con Groq\n",
        "                    response = client.chat.completions.create(\n",
        "                        model=\"llama-3.3-70b-versatile\",\n",
        "                        messages=[\n",
        "                            {\n",
        "                                \"role\": \"system\",\n",
        "                                \"content\": \"Eres un traductor especializado en convertir código JavaScript que utiliza require a la sintaxis moderna de import. Tu tarea es recibir un fragmento de código fuente en JavaScript que usa require y devolver el mismo código modificado para que use la sintaxis import .. from .... Responde únicamente con el código convertido, sin agregar explicaciones ni comentarios adicionales y no utilizar markdown.\"\n",
        "                            },\n",
        "                            {\n",
        "                                \"role\": \"user\",\n",
        "                                \"content\": codigo_js\n",
        "                            }\n",
        "                        ],\n",
        "                        temperature=0\n",
        "                    )\n",
        "\n",
        "                    # Guardar resultado manteniendo el mismo nombre\n",
        "                    nombre_salida = os.path.join(ruta_destino, archivo)\n",
        "                    with open(nombre_salida, 'w', encoding='utf-8') as f:\n",
        "                        f.write(response.choices[0].message.content)\n",
        "\n",
        "                    print(f\"Procesado: {ruta_completa} -> {nombre_salida}\")\n",
        "\n",
        "                except Exception as e:\n",
        "                    print(f\"Error procesando {ruta_completa}: {str(e)}\")\n",
        "\n",
        "# Ejecutar el proceso\n",
        "procesar_archivos_js('./proyecto', './proyecto-salida')"
      ],
      "metadata": {
        "colab": {
          "base_uri": "https://localhost:8080/"
        },
        "id": "z8u5g7gOZvw_",
        "outputId": "e4026352-af1a-41c3-bb3c-b6ab3033d7d7"
      },
      "execution_count": null,
      "outputs": [
        {
          "output_type": "stream",
          "name": "stdout",
          "text": [
            "Ingrese su API key de Groq: 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\n",
            "Procesado: ./proyecto/src/app.js -> ./proyecto-salida/src/app.js\n",
            "Procesado: ./proyecto/src/models/Product.js -> ./proyecto-salida/src/models/Product.js\n",
            "Procesado: ./proyecto/src/controllers/productController.js -> ./proyecto-salida/src/controllers/productController.js\n",
            "Procesado: ./proyecto/src/config/database.js -> ./proyecto-salida/src/config/database.js\n",
            "Procesado: ./proyecto/src/routes/productRoutes.js -> ./proyecto-salida/src/routes/productRoutes.js\n"
          ]
        }
      ]
    }
  ]
}